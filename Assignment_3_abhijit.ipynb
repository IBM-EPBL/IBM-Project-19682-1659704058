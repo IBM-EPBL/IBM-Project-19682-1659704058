{
  "nbformat": 4,
  "nbformat_minor": 0,
  "metadata": {
    "colab": {
      "provenance": []
    },
    "kernelspec": {
      "name": "python3",
      "display_name": "Python 3"
    },
    "language_info": {
      "name": "python"
    }
  },
  "cells": [
    {
      "cell_type": "markdown",
      "source": [
        "# **Drive** **mounting**"
      ],
      "metadata": {
        "id": "OcUu34NyutfX"
      }
    },
    {
      "cell_type": "code",
      "source": [
        "from google.colab import drive\n",
        "drive.mount('/content/gdrive')"
      ],
      "metadata": {
        "colab": {
          "base_uri": "https://localhost:8080/"
        },
        "id": "uFV0fH9Obqkp",
        "outputId": "6c043b19-dd69-4e59-dc44-be925820566f"
      },
      "execution_count": 8,
      "outputs": [
        {
          "output_type": "stream",
          "name": "stdout",
          "text": [
            "Mounted at /content/gdrive\n"
          ]
        }
      ]
    },
    {
      "cell_type": "markdown",
      "source": [
        "# **Unzipping**"
      ],
      "metadata": {
        "id": "nVweoK6lZ374"
      }
    },
    {
      "cell_type": "code",
      "source": [
        "#!unzip '/content/gdrive/MyDrive/Colab Notebooks/Flowers-Dataset.zip'"
      ],
      "metadata": {
        "id": "3VF6Dmz_ZBcx"
      },
      "execution_count": null,
      "outputs": []
    },
    {
      "cell_type": "markdown",
      "source": [
        "# **Data** **Augmentation**"
      ],
      "metadata": {
        "id": "5b7LdtysZ6hm"
      }
    },
    {
      "cell_type": "code",
      "source": [
        "from tensorflow.keras.preprocessing.image import ImageDataGenerator \n",
        "\n",
        "train_gen = ImageDataGenerator(rescale=1./255,\n",
        "                               zoom_range=0.2,\n",
        "                               horizontal_flip=True)\n",
        "test_gen = ImageDataGenerator(rescale=1./255)"
      ],
      "metadata": {
        "id": "h-dZdKAeZtcl"
      },
      "execution_count": 11,
      "outputs": []
    },
    {
      "cell_type": "code",
      "source": [
        "xtrain = train_gen.flow_from_directory('/content/flowers',\n",
        "                                       target_size=(64,64),\n",
        "                                       class_mode='categorical',\n",
        "                                       batch_size=100)"
      ],
      "metadata": {
        "colab": {
          "base_uri": "https://localhost:8080/"
        },
        "id": "IQ1XbGrdZukQ",
        "outputId": "34f0590b-9fda-4a80-b07c-c2fd8a4aa7d3"
      },
      "execution_count": 12,
      "outputs": [
        {
          "output_type": "stream",
          "name": "stdout",
          "text": [
            "Found 4317 images belonging to 5 classes.\n"
          ]
        }
      ]
    },
    {
      "cell_type": "markdown",
      "source": [
        "# **Train**"
      ],
      "metadata": {
        "id": "prB72G6lZ7-y"
      }
    },
    {
      "cell_type": "code",
      "source": [
        "from tensorflow.keras.models import Sequential\n",
        "from tensorflow.keras.layers import Convolution2D, MaxPooling2D, Dense, Flatten\n",
        "from keras.callbacks import EarlyStopping, ReduceLROnPlateau"
      ],
      "metadata": {
        "id": "S5JbmXjOZylt"
      },
      "execution_count": 13,
      "outputs": []
    },
    {
      "cell_type": "code",
      "source": [
        "model = Sequential()\n",
        "model.add(Convolution2D(32,(3,3),activation='relu',input_shape=(64,64,3)))\n",
        "model.add(MaxPooling2D((2,2)))\n",
        "model.add(Flatten())\n",
        "\n",
        "model.add(Dense(400,activation='relu'))\n",
        "model.add(Dense(200,activation='relu'))\n",
        "model.add(Dense(100,activation='relu'))\n",
        "model.add(Dense(5,activation='softmax'))"
      ],
      "metadata": {
        "id": "UFxkN_54cO15"
      },
      "execution_count": 14,
      "outputs": []
    },
    {
      "cell_type": "code",
      "source": [
        "model.compile(optimizer='adam',loss='categorical_crossentropy',metrics=['accuracy'])"
      ],
      "metadata": {
        "id": "HdhvkZaVcQ79"
      },
      "execution_count": 15,
      "outputs": []
    },
    {
      "cell_type": "code",
      "source": [
        "early_stopping = EarlyStopping(monitor='accuracy',\n",
        "                        patience=3)\n",
        "reduce_lr = ReduceLROnPlateau(monitor='accuracy',\n",
        "                        patience=5,\n",
        "                        factor=0.5,min_lr=0.00001)\n",
        "\n",
        "callback = [reduce_lr,early_stopping]"
      ],
      "metadata": {
        "id": "7lyyvcX1cTP7"
      },
      "execution_count": 16,
      "outputs": []
    },
    {
      "cell_type": "code",
      "source": [
        "model.fit_generator(xtrain,\n",
        "                    steps_per_epoch = len(xtrain),\n",
        "                    callbacks=callback,\n",
        "                    epochs=100)"
      ],
      "metadata": {
        "colab": {
          "base_uri": "https://localhost:8080/"
        },
        "id": "-5oPrUPWcXCb",
        "outputId": "cea27470-2c6e-4036-dedb-e9bc38d248de"
      },
      "execution_count": 17,
      "outputs": [
        {
          "output_type": "stream",
          "name": "stderr",
          "text": [
            "/usr/local/lib/python3.7/dist-packages/ipykernel_launcher.py:4: UserWarning: `Model.fit_generator` is deprecated and will be removed in a future version. Please use `Model.fit`, which supports generators.\n",
            "  after removing the cwd from sys.path.\n"
          ]
        },
        {
          "output_type": "stream",
          "name": "stdout",
          "text": [
            "Epoch 1/100\n",
            "44/44 [==============================] - 31s 670ms/step - loss: 1.6531 - accuracy: 0.3641 - lr: 0.0010\n",
            "Epoch 2/100\n",
            "44/44 [==============================] - 30s 666ms/step - loss: 1.1409 - accuracy: 0.5418 - lr: 0.0010\n",
            "Epoch 3/100\n",
            "44/44 [==============================] - 30s 666ms/step - loss: 1.0728 - accuracy: 0.5715 - lr: 0.0010\n",
            "Epoch 4/100\n",
            "44/44 [==============================] - 32s 710ms/step - loss: 0.9801 - accuracy: 0.6166 - lr: 0.0010\n",
            "Epoch 5/100\n",
            "44/44 [==============================] - 30s 665ms/step - loss: 0.9247 - accuracy: 0.6423 - lr: 0.0010\n",
            "Epoch 6/100\n",
            "44/44 [==============================] - 30s 665ms/step - loss: 0.8613 - accuracy: 0.6688 - lr: 0.0010\n",
            "Epoch 7/100\n",
            "44/44 [==============================] - 30s 665ms/step - loss: 0.8511 - accuracy: 0.6662 - lr: 0.0010\n",
            "Epoch 8/100\n",
            "44/44 [==============================] - 29s 678ms/step - loss: 0.8270 - accuracy: 0.6845 - lr: 0.0010\n",
            "Epoch 9/100\n",
            "44/44 [==============================] - 31s 708ms/step - loss: 0.7818 - accuracy: 0.7019 - lr: 0.0010\n",
            "Epoch 10/100\n",
            "44/44 [==============================] - 29s 661ms/step - loss: 0.7415 - accuracy: 0.7116 - lr: 0.0010\n",
            "Epoch 11/100\n",
            "44/44 [==============================] - 29s 660ms/step - loss: 0.7253 - accuracy: 0.7192 - lr: 0.0010\n",
            "Epoch 12/100\n",
            "44/44 [==============================] - 29s 662ms/step - loss: 0.6986 - accuracy: 0.7352 - lr: 0.0010\n",
            "Epoch 13/100\n",
            "44/44 [==============================] - 29s 663ms/step - loss: 0.6811 - accuracy: 0.7461 - lr: 0.0010\n",
            "Epoch 14/100\n",
            "44/44 [==============================] - 29s 663ms/step - loss: 0.6362 - accuracy: 0.7575 - lr: 0.0010\n",
            "Epoch 15/100\n",
            "44/44 [==============================] - 29s 675ms/step - loss: 0.6080 - accuracy: 0.7700 - lr: 0.0010\n",
            "Epoch 16/100\n",
            "44/44 [==============================] - 29s 659ms/step - loss: 0.5860 - accuracy: 0.7830 - lr: 0.0010\n",
            "Epoch 17/100\n",
            "44/44 [==============================] - 29s 662ms/step - loss: 0.5470 - accuracy: 0.8001 - lr: 0.0010\n",
            "Epoch 18/100\n",
            "44/44 [==============================] - 29s 659ms/step - loss: 0.5155 - accuracy: 0.8047 - lr: 0.0010\n",
            "Epoch 19/100\n",
            "44/44 [==============================] - 29s 660ms/step - loss: 0.5218 - accuracy: 0.8024 - lr: 0.0010\n",
            "Epoch 20/100\n",
            "44/44 [==============================] - 31s 707ms/step - loss: 0.5197 - accuracy: 0.8050 - lr: 0.0010\n",
            "Epoch 21/100\n",
            "44/44 [==============================] - 29s 657ms/step - loss: 0.4720 - accuracy: 0.8226 - lr: 0.0010\n",
            "Epoch 22/100\n",
            "44/44 [==============================] - 29s 661ms/step - loss: 0.4195 - accuracy: 0.8436 - lr: 0.0010\n",
            "Epoch 23/100\n",
            "44/44 [==============================] - 29s 660ms/step - loss: 0.3851 - accuracy: 0.8555 - lr: 0.0010\n",
            "Epoch 24/100\n",
            "44/44 [==============================] - 29s 661ms/step - loss: 0.3744 - accuracy: 0.8645 - lr: 0.0010\n",
            "Epoch 25/100\n",
            "44/44 [==============================] - 29s 659ms/step - loss: 0.4039 - accuracy: 0.8427 - lr: 0.0010\n",
            "Epoch 26/100\n",
            "44/44 [==============================] - 29s 661ms/step - loss: 0.3346 - accuracy: 0.8770 - lr: 0.0010\n",
            "Epoch 27/100\n",
            "44/44 [==============================] - 29s 661ms/step - loss: 0.3675 - accuracy: 0.8643 - lr: 0.0010\n",
            "Epoch 28/100\n",
            "44/44 [==============================] - 29s 660ms/step - loss: 0.2900 - accuracy: 0.8972 - lr: 0.0010\n",
            "Epoch 29/100\n",
            "44/44 [==============================] - 29s 659ms/step - loss: 0.3270 - accuracy: 0.8814 - lr: 0.0010\n",
            "Epoch 30/100\n",
            "44/44 [==============================] - 29s 662ms/step - loss: 0.3214 - accuracy: 0.8846 - lr: 0.0010\n",
            "Epoch 31/100\n",
            "44/44 [==============================] - 29s 659ms/step - loss: 0.2586 - accuracy: 0.9120 - lr: 0.0010\n",
            "Epoch 32/100\n",
            "44/44 [==============================] - 31s 693ms/step - loss: 0.2341 - accuracy: 0.9166 - lr: 0.0010\n",
            "Epoch 33/100\n",
            "44/44 [==============================] - 29s 655ms/step - loss: 0.2433 - accuracy: 0.9122 - lr: 0.0010\n",
            "Epoch 34/100\n",
            "44/44 [==============================] - 29s 658ms/step - loss: 0.2798 - accuracy: 0.9078 - lr: 0.0010\n",
            "Epoch 35/100\n",
            "44/44 [==============================] - 29s 656ms/step - loss: 0.2062 - accuracy: 0.9275 - lr: 0.0010\n",
            "Epoch 36/100\n",
            "44/44 [==============================] - 29s 656ms/step - loss: 0.2151 - accuracy: 0.9254 - lr: 0.0010\n",
            "Epoch 37/100\n",
            "44/44 [==============================] - 29s 657ms/step - loss: 0.1986 - accuracy: 0.9298 - lr: 0.0010\n",
            "Epoch 38/100\n",
            "44/44 [==============================] - 31s 704ms/step - loss: 0.1961 - accuracy: 0.9317 - lr: 0.0010\n",
            "Epoch 39/100\n",
            "44/44 [==============================] - 29s 659ms/step - loss: 0.1666 - accuracy: 0.9414 - lr: 0.0010\n",
            "Epoch 40/100\n",
            "44/44 [==============================] - 29s 659ms/step - loss: 0.1603 - accuracy: 0.9421 - lr: 0.0010\n",
            "Epoch 41/100\n",
            "44/44 [==============================] - 29s 660ms/step - loss: 0.1575 - accuracy: 0.9460 - lr: 0.0010\n",
            "Epoch 42/100\n",
            "44/44 [==============================] - 29s 658ms/step - loss: 0.1575 - accuracy: 0.9451 - lr: 0.0010\n",
            "Epoch 43/100\n",
            "44/44 [==============================] - 29s 657ms/step - loss: 0.1437 - accuracy: 0.9514 - lr: 0.0010\n",
            "Epoch 44/100\n",
            "44/44 [==============================] - 31s 703ms/step - loss: 0.1143 - accuracy: 0.9625 - lr: 0.0010\n",
            "Epoch 45/100\n",
            "44/44 [==============================] - 29s 658ms/step - loss: 0.1254 - accuracy: 0.9604 - lr: 0.0010\n",
            "Epoch 46/100\n",
            "44/44 [==============================] - 29s 655ms/step - loss: 0.1584 - accuracy: 0.9479 - lr: 0.0010\n",
            "Epoch 47/100\n",
            "44/44 [==============================] - 29s 656ms/step - loss: 0.1205 - accuracy: 0.9602 - lr: 0.0010\n"
          ]
        },
        {
          "output_type": "execute_result",
          "data": {
            "text/plain": [
              "<keras.callbacks.History at 0x7f77345e34d0>"
            ]
          },
          "metadata": {},
          "execution_count": 17
        }
      ]
    },
    {
      "cell_type": "code",
      "source": [
        "model.save('flower_cnn.h5')"
      ],
      "metadata": {
        "id": "zd4A91ANcawH"
      },
      "execution_count": 18,
      "outputs": []
    },
    {
      "cell_type": "markdown",
      "source": [
        "# **Test**"
      ],
      "metadata": {
        "id": "r7B1Y6w3kAfd"
      }
    },
    {
      "cell_type": "code",
      "source": [
        "import numpy as np\n",
        "from tensorflow.keras.preprocessing import image"
      ],
      "metadata": {
        "id": "Gi_i2dt_kJqZ"
      },
      "execution_count": 34,
      "outputs": []
    },
    {
      "cell_type": "code",
      "source": [
        "img = image.load_img('/content/gdrive/MyDrive/images/marguerite-daisy-types-1586981163.jpg',target_size=(64,64))\n",
        "img\n"
      ],
      "metadata": {
        "colab": {
          "base_uri": "https://localhost:8080/",
          "height": 81
        },
        "id": "ohwFz-7WkMRm",
        "outputId": "5c987dd8-aa2f-4d06-9a13-8bb193dc699c"
      },
      "execution_count": 48,
      "outputs": [
        {
          "output_type": "execute_result",
          "data": {
            "text/plain": [
              "<PIL.Image.Image image mode=RGB size=64x64 at 0x7F772BA2A710>"
            ],
            "image/png": "[encoded data removed]"
          },
          "metadata": {},
          "execution_count": 48
        }
      ]
    },
    {
      "cell_type": "code",
      "source": [
        "h = image.img_to_array(img)\n",
        "h"
      ],
      "metadata": {
        "colab": {
          "base_uri": "https://localhost:8080/"
        },
        "id": "llrnkhAKkOWD",
        "outputId": "1178339b-6ea0-4dfe-d920-35427923573a"
      },
      "execution_count": 49,
      "outputs": [
        {
          "output_type": "execute_result",
          "data": {
            "text/plain": [
              "array([[[157., 158., 160.],\n",
              "        [188., 189., 191.],\n",
              "        [199., 199., 197.],\n",
              "        ...,\n",
              "        [119., 124., 104.],\n",
              "        [161., 162., 156.],\n",
              "        [171., 172., 166.]],\n",
              "\n",
              "       [[192., 191., 196.],\n",
              "        [211., 211., 213.],\n",
              "        [200., 198., 199.],\n",
              "        ...,\n",
              "        [130., 130., 106.],\n",
              "        [172., 167., 161.],\n",
              "        [179., 179., 171.]],\n",
              "\n",
              "       [[207., 206., 211.],\n",
              "        [219., 217., 220.],\n",
              "        [199., 198., 194.],\n",
              "        ...,\n",
              "        [ 90.,  90.,  52.],\n",
              "        [135., 133., 108.],\n",
              "        [148., 146., 125.]],\n",
              "\n",
              "       ...,\n",
              "\n",
              "       [[ 93.,  95.,  32.],\n",
              "        [ 62.,  64.,  14.],\n",
              "        [ 52.,  53.,  11.],\n",
              "        ...,\n",
              "        [ 58.,  63.,  23.],\n",
              "        [ 39.,  45.,   7.],\n",
              "        [ 59.,  56.,  25.]],\n",
              "\n",
              "       [[ 69.,  72.,  17.],\n",
              "        [ 42.,  46.,   9.],\n",
              "        [ 31.,  36.,   4.],\n",
              "        ...,\n",
              "        [ 45.,  47.,   7.],\n",
              "        [ 40.,  42.,   5.],\n",
              "        [ 45.,  45.,  11.]],\n",
              "\n",
              "       [[ 48.,  51.,   8.],\n",
              "        [ 28.,  32.,   5.],\n",
              "        [ 20.,  25.,   3.],\n",
              "        ...,\n",
              "        [ 45.,  46.,   4.],\n",
              "        [ 50.,  51.,   7.],\n",
              "        [ 57.,  58.,  16.]]], dtype=float32)"
            ]
          },
          "metadata": {},
          "execution_count": 49
        }
      ]
    },
    {
      "cell_type": "code",
      "source": [
        "h= np.expand_dims(h,axis= 0)\n",
        "h"
      ],
      "metadata": {
        "colab": {
          "base_uri": "https://localhost:8080/"
        },
        "id": "_3svGIx9kSVM",
        "outputId": "c83e3783-38ef-41a9-a9fd-f683dae0e7d9"
      },
      "execution_count": 50,
      "outputs": [
        {
          "output_type": "execute_result",
          "data": {
            "text/plain": [
              "array([[[[157., 158., 160.],\n",
              "         [188., 189., 191.],\n",
              "         [199., 199., 197.],\n",
              "         ...,\n",
              "         [119., 124., 104.],\n",
              "         [161., 162., 156.],\n",
              "         [171., 172., 166.]],\n",
              "\n",
              "        [[192., 191., 196.],\n",
              "         [211., 211., 213.],\n",
              "         [200., 198., 199.],\n",
              "         ...,\n",
              "         [130., 130., 106.],\n",
              "         [172., 167., 161.],\n",
              "         [179., 179., 171.]],\n",
              "\n",
              "        [[207., 206., 211.],\n",
              "         [219., 217., 220.],\n",
              "         [199., 198., 194.],\n",
              "         ...,\n",
              "         [ 90.,  90.,  52.],\n",
              "         [135., 133., 108.],\n",
              "         [148., 146., 125.]],\n",
              "\n",
              "        ...,\n",
              "\n",
              "        [[ 93.,  95.,  32.],\n",
              "         [ 62.,  64.,  14.],\n",
              "         [ 52.,  53.,  11.],\n",
              "         ...,\n",
              "         [ 58.,  63.,  23.],\n",
              "         [ 39.,  45.,   7.],\n",
              "         [ 59.,  56.,  25.]],\n",
              "\n",
              "        [[ 69.,  72.,  17.],\n",
              "         [ 42.,  46.,   9.],\n",
              "         [ 31.,  36.,   4.],\n",
              "         ...,\n",
              "         [ 45.,  47.,   7.],\n",
              "         [ 40.,  42.,   5.],\n",
              "         [ 45.,  45.,  11.]],\n",
              "\n",
              "        [[ 48.,  51.,   8.],\n",
              "         [ 28.,  32.,   5.],\n",
              "         [ 20.,  25.,   3.],\n",
              "         ...,\n",
              "         [ 45.,  46.,   4.],\n",
              "         [ 50.,  51.,   7.],\n",
              "         [ 57.,  58.,  16.]]]], dtype=float32)"
            ]
          },
          "metadata": {},
          "execution_count": 50
        }
      ]
    },
    {
      "cell_type": "code",
      "source": [
        "val = list(xtrain.class_indices.keys())\n",
        "val"
      ],
      "metadata": {
        "colab": {
          "base_uri": "https://localhost:8080/"
        },
        "id": "bdGyZAKmkUTP",
        "outputId": "98ce7416-f679-444b-d5d7-a77538ca9513"
      },
      "execution_count": 51,
      "outputs": [
        {
          "output_type": "execute_result",
          "data": {
            "text/plain": [
              "['daisy', 'dandelion', 'rose', 'sunflower', 'tulip']"
            ]
          },
          "metadata": {},
          "execution_count": 51
        }
      ]
    },
    {
      "cell_type": "code",
      "source": [
        "val[np.argmax(model.predict(h))]"
      ],
      "metadata": {
        "colab": {
          "base_uri": "https://localhost:8080/",
          "height": 36
        },
        "id": "8lpMiF_PkWGh",
        "outputId": "d23fe314-7317-4fce-f71e-481906cd5980"
      },
      "execution_count": 52,
      "outputs": [
        {
          "output_type": "execute_result",
          "data": {
            "text/plain": [
              "'daisy'"
            ],
            "application/vnd.google.colaboratory.intrinsic+json": {
              "type": "string"
            }
          },
          "metadata": {},
          "execution_count": 52
        }
      ]
    }
  ]
}